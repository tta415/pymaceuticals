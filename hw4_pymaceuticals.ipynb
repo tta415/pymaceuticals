{
 "cells": [
  {
   "cell_type": "markdown",
   "metadata": {},
   "source": [
    "## Homework 4: Pymaceuticals\n",
    "In this study, 250 mice were treated through a variety of drug regimes over the course of 45 days. Their physiological responses were then monitored over the course of that time. Your objective is to analyze the data to show how four treatments (Capomulin, Infubinol, Ketapril, and Placebo) compare."
   ]
  },
  {
   "cell_type": "code",
   "execution_count": 7,
   "metadata": {
    "collapsed": true
   },
   "outputs": [],
   "source": [
    "# Dependencies\n",
    "import pandas as pd\n",
    "import matplotlib.pyplot as plt\n",
    "import seaborn as sns\n",
    "%matplotlib inline"
   ]
  },
  {
   "cell_type": "code",
   "execution_count": 20,
   "metadata": {
    "collapsed": false
   },
   "outputs": [],
   "source": [
    "# Read clinical trial data into dataframe\n",
    "clinical_df = pd.read_csv('raw_data\\clinicaltrial_data.csv')\n",
    "#clinical_df.head()"
   ]
  },
  {
   "cell_type": "code",
   "execution_count": 19,
   "metadata": {
    "collapsed": false
   },
   "outputs": [],
   "source": [
    "# Read mouse drug data into dataframe\n",
    "mouse_drug_df = pd.read_csv('raw_data\\mouse_drug_data.csv')\n",
    "#mouse_drug_df.head()"
   ]
  },
  {
   "cell_type": "code",
   "execution_count": 43,
   "metadata": {
    "collapsed": false
   },
   "outputs": [
    {
     "data": {
      "text/html": [
       "<div>\n",
       "<table border=\"1\" class=\"dataframe\">\n",
       "  <thead>\n",
       "    <tr style=\"text-align: right;\">\n",
       "      <th></th>\n",
       "      <th>Mouse ID</th>\n",
       "      <th>Timepoint</th>\n",
       "      <th>Tumor Volume (mm3)</th>\n",
       "      <th>Metastatic Sites</th>\n",
       "      <th>Drug</th>\n",
       "    </tr>\n",
       "  </thead>\n",
       "  <tbody>\n",
       "    <tr>\n",
       "      <th>0</th>\n",
       "      <td>b128</td>\n",
       "      <td>0</td>\n",
       "      <td>45.000000</td>\n",
       "      <td>0</td>\n",
       "      <td>Capomulin</td>\n",
       "    </tr>\n",
       "    <tr>\n",
       "      <th>1</th>\n",
       "      <td>b128</td>\n",
       "      <td>5</td>\n",
       "      <td>45.651331</td>\n",
       "      <td>0</td>\n",
       "      <td>Capomulin</td>\n",
       "    </tr>\n",
       "    <tr>\n",
       "      <th>2</th>\n",
       "      <td>b128</td>\n",
       "      <td>10</td>\n",
       "      <td>43.270852</td>\n",
       "      <td>0</td>\n",
       "      <td>Capomulin</td>\n",
       "    </tr>\n",
       "    <tr>\n",
       "      <th>3</th>\n",
       "      <td>b128</td>\n",
       "      <td>15</td>\n",
       "      <td>43.784893</td>\n",
       "      <td>0</td>\n",
       "      <td>Capomulin</td>\n",
       "    </tr>\n",
       "    <tr>\n",
       "      <th>4</th>\n",
       "      <td>b128</td>\n",
       "      <td>20</td>\n",
       "      <td>42.731552</td>\n",
       "      <td>0</td>\n",
       "      <td>Capomulin</td>\n",
       "    </tr>\n",
       "  </tbody>\n",
       "</table>\n",
       "</div>"
      ],
      "text/plain": [
       "  Mouse ID  Timepoint  Tumor Volume (mm3)  Metastatic Sites       Drug\n",
       "0     b128          0           45.000000                 0  Capomulin\n",
       "1     b128          5           45.651331                 0  Capomulin\n",
       "2     b128         10           43.270852                 0  Capomulin\n",
       "3     b128         15           43.784893                 0  Capomulin\n",
       "4     b128         20           42.731552                 0  Capomulin"
      ]
     },
     "execution_count": 43,
     "metadata": {},
     "output_type": "execute_result"
    }
   ],
   "source": [
    "# Merge clinical and mouse drug dataframes\n",
    "results_df = pd.merge(clinical_df, mouse_drug_df,how='inner',on='Mouse ID')\n",
    "results_df.head()\n",
    "#results_df.info()"
   ]
  },
  {
   "cell_type": "markdown",
   "metadata": {},
   "source": [
    "## Tumor Volume Change Over Time"
   ]
  },
  {
   "cell_type": "code",
   "execution_count": 75,
   "metadata": {
    "collapsed": false
   },
   "outputs": [
    {
     "data": {
      "text/plain": [
       "<matplotlib.text.Text at 0x263c0865080>"
      ]
     },
     "execution_count": 75,
     "metadata": {},
     "output_type": "execute_result"
    },
    {
     "data": {
      "image/png": "[encoded data removed]",
      "text/plain": [
       "<matplotlib.figure.Figure at 0x263c07da208>"
      ]
     },
     "metadata": {},
     "output_type": "display_data"
    }
   ],
   "source": [
    "# Creating a scatter plot that shows how the tumor volume changes over time for each treatment.\n",
    "\n",
    "tv = sns.lmplot(x='Timepoint', y='Tumor Volume (mm3)', data=results_df, hue='Drug')\n",
    "tv.set(xlim=(0,45))\n",
    "plt.xlabel('Time (Days)')\n",
    "plt.title('Tumor Volume Over Time')"
   ]
  },
  {
   "cell_type": "code",
   "execution_count": 90,
   "metadata": {
    "collapsed": false
   },
   "outputs": [
    {
     "data": {
      "text/plain": [
       "Drug       Timepoint\n",
       "Capomulin  0            45.000000\n",
       "           5            44.266086\n",
       "           10           43.084291\n",
       "           15           42.064317\n",
       "           20           40.716325\n",
       "           25           39.939528\n",
       "           30           38.769339\n",
       "           35           37.816839\n",
       "           40           36.958001\n",
       "           45           36.236114\n",
       "Ceftamin   0            45.000000\n",
       "           5            46.503051\n",
       "           10           48.285125\n",
       "           15           50.094055\n",
       "           20           52.157049\n",
       "           25           54.287674\n",
       "           30           56.769517\n",
       "           35           58.827548\n",
       "           40           61.467895\n",
       "           45           64.132421\n",
       "Infubinol  0            45.000000\n",
       "           5            47.062001\n",
       "           10           49.403909\n",
       "           15           51.296397\n",
       "           20           53.197691\n",
       "           25           55.715252\n",
       "           30           58.299397\n",
       "           35           60.742461\n",
       "           40           63.162824\n",
       "           45           65.755562\n",
       "                          ...    \n",
       "Ramicane   0            45.000000\n",
       "           5            43.944859\n",
       "           10           42.531957\n",
       "           15           41.495061\n",
       "           20           40.238325\n",
       "           25           38.974300\n",
       "           30           38.703137\n",
       "           35           37.451996\n",
       "           40           36.574081\n",
       "           45           34.955595\n",
       "Stelasyn   0            45.000000\n",
       "           5            47.527452\n",
       "           10           49.463844\n",
       "           15           51.529409\n",
       "           20           54.067395\n",
       "           25           56.166123\n",
       "           30           59.826738\n",
       "           35           62.440699\n",
       "           40           65.356386\n",
       "           45           68.438310\n",
       "Zoniferol  0            45.000000\n",
       "           5            46.851818\n",
       "           10           48.689881\n",
       "           15           50.779059\n",
       "           20           53.170334\n",
       "           25           55.432935\n",
       "           30           57.713531\n",
       "           35           60.089372\n",
       "           40           62.916692\n",
       "           45           65.960888\n",
       "Name: Tumor Volume (mm3), dtype: float64"
      ]
     },
     "execution_count": 90,
     "metadata": {},
     "output_type": "execute_result"
    }
   ],
   "source": [
    "tv_df = results_df.pivot_table(values='Tumor Volume (mm3)',index=['Drug', 'Timepoint']) \n",
    "tv_df"
   ]
  },
  {
   "cell_type": "code",
   "execution_count": 91,
   "metadata": {
    "collapsed": false
   },
   "outputs": [
    {
     "data": {
      "text/html": [
       "<div>\n",
       "<table border=\"1\" class=\"dataframe\">\n",
       "  <thead>\n",
       "    <tr style=\"text-align: right;\">\n",
       "      <th>Drug</th>\n",
       "      <th>Capomulin</th>\n",
       "      <th>Ceftamin</th>\n",
       "      <th>Infubinol</th>\n",
       "      <th>Ketapril</th>\n",
       "      <th>Naftisol</th>\n",
       "      <th>Placebo</th>\n",
       "      <th>Propriva</th>\n",
       "      <th>Ramicane</th>\n",
       "      <th>Stelasyn</th>\n",
       "      <th>Zoniferol</th>\n",
       "    </tr>\n",
       "    <tr>\n",
       "      <th>Timepoint</th>\n",
       "      <th></th>\n",
       "      <th></th>\n",
       "      <th></th>\n",
       "      <th></th>\n",
       "      <th></th>\n",
       "      <th></th>\n",
       "      <th></th>\n",
       "      <th></th>\n",
       "      <th></th>\n",
       "      <th></th>\n",
       "    </tr>\n",
       "  </thead>\n",
       "  <tbody>\n",
       "    <tr>\n",
       "      <th>0</th>\n",
       "      <td>45.000000</td>\n",
       "      <td>45.000000</td>\n",
       "      <td>45.000000</td>\n",
       "      <td>45.000000</td>\n",
       "      <td>45.000000</td>\n",
       "      <td>45.000000</td>\n",
       "      <td>45.000000</td>\n",
       "      <td>45.000000</td>\n",
       "      <td>45.000000</td>\n",
       "      <td>45.000000</td>\n",
       "    </tr>\n",
       "    <tr>\n",
       "      <th>5</th>\n",
       "      <td>44.266086</td>\n",
       "      <td>46.503051</td>\n",
       "      <td>47.062001</td>\n",
       "      <td>47.389175</td>\n",
       "      <td>46.796098</td>\n",
       "      <td>47.125589</td>\n",
       "      <td>47.248967</td>\n",
       "      <td>43.944859</td>\n",
       "      <td>47.527452</td>\n",
       "      <td>46.851818</td>\n",
       "    </tr>\n",
       "    <tr>\n",
       "      <th>10</th>\n",
       "      <td>43.084291</td>\n",
       "      <td>48.285125</td>\n",
       "      <td>49.403909</td>\n",
       "      <td>49.582269</td>\n",
       "      <td>48.694210</td>\n",
       "      <td>49.423329</td>\n",
       "      <td>49.101541</td>\n",
       "      <td>42.531957</td>\n",
       "      <td>49.463844</td>\n",
       "      <td>48.689881</td>\n",
       "    </tr>\n",
       "    <tr>\n",
       "      <th>15</th>\n",
       "      <td>42.064317</td>\n",
       "      <td>50.094055</td>\n",
       "      <td>51.296397</td>\n",
       "      <td>52.399974</td>\n",
       "      <td>50.933018</td>\n",
       "      <td>51.359742</td>\n",
       "      <td>51.067318</td>\n",
       "      <td>41.495061</td>\n",
       "      <td>51.529409</td>\n",
       "      <td>50.779059</td>\n",
       "    </tr>\n",
       "    <tr>\n",
       "      <th>20</th>\n",
       "      <td>40.716325</td>\n",
       "      <td>52.157049</td>\n",
       "      <td>53.197691</td>\n",
       "      <td>54.920935</td>\n",
       "      <td>53.644087</td>\n",
       "      <td>54.364417</td>\n",
       "      <td>53.346737</td>\n",
       "      <td>40.238325</td>\n",
       "      <td>54.067395</td>\n",
       "      <td>53.170334</td>\n",
       "    </tr>\n",
       "    <tr>\n",
       "      <th>25</th>\n",
       "      <td>39.939528</td>\n",
       "      <td>54.287674</td>\n",
       "      <td>55.715252</td>\n",
       "      <td>57.678982</td>\n",
       "      <td>56.731968</td>\n",
       "      <td>57.482574</td>\n",
       "      <td>55.504138</td>\n",
       "      <td>38.974300</td>\n",
       "      <td>56.166123</td>\n",
       "      <td>55.432935</td>\n",
       "    </tr>\n",
       "    <tr>\n",
       "      <th>30</th>\n",
       "      <td>38.769339</td>\n",
       "      <td>56.769517</td>\n",
       "      <td>58.299397</td>\n",
       "      <td>60.994507</td>\n",
       "      <td>59.559509</td>\n",
       "      <td>59.809063</td>\n",
       "      <td>58.196374</td>\n",
       "      <td>38.703137</td>\n",
       "      <td>59.826738</td>\n",
       "      <td>57.713531</td>\n",
       "    </tr>\n",
       "    <tr>\n",
       "      <th>35</th>\n",
       "      <td>37.816839</td>\n",
       "      <td>58.827548</td>\n",
       "      <td>60.742461</td>\n",
       "      <td>63.371686</td>\n",
       "      <td>62.685087</td>\n",
       "      <td>62.420615</td>\n",
       "      <td>60.350199</td>\n",
       "      <td>37.451996</td>\n",
       "      <td>62.440699</td>\n",
       "      <td>60.089372</td>\n",
       "    </tr>\n",
       "    <tr>\n",
       "      <th>40</th>\n",
       "      <td>36.958001</td>\n",
       "      <td>61.467895</td>\n",
       "      <td>63.162824</td>\n",
       "      <td>66.068580</td>\n",
       "      <td>65.600754</td>\n",
       "      <td>65.052675</td>\n",
       "      <td>63.045537</td>\n",
       "      <td>36.574081</td>\n",
       "      <td>65.356386</td>\n",
       "      <td>62.916692</td>\n",
       "    </tr>\n",
       "    <tr>\n",
       "      <th>45</th>\n",
       "      <td>36.236114</td>\n",
       "      <td>64.132421</td>\n",
       "      <td>65.755562</td>\n",
       "      <td>70.662958</td>\n",
       "      <td>69.265506</td>\n",
       "      <td>68.084082</td>\n",
       "      <td>66.258529</td>\n",
       "      <td>34.955595</td>\n",
       "      <td>68.438310</td>\n",
       "      <td>65.960888</td>\n",
       "    </tr>\n",
       "  </tbody>\n",
       "</table>\n",
       "</div>"
      ],
      "text/plain": [
       "Drug       Capomulin   Ceftamin  Infubinol   Ketapril   Naftisol    Placebo  \\\n",
       "Timepoint                                                                     \n",
       "0          45.000000  45.000000  45.000000  45.000000  45.000000  45.000000   \n",
       "5          44.266086  46.503051  47.062001  47.389175  46.796098  47.125589   \n",
       "10         43.084291  48.285125  49.403909  49.582269  48.694210  49.423329   \n",
       "15         42.064317  50.094055  51.296397  52.399974  50.933018  51.359742   \n",
       "20         40.716325  52.157049  53.197691  54.920935  53.644087  54.364417   \n",
       "25         39.939528  54.287674  55.715252  57.678982  56.731968  57.482574   \n",
       "30         38.769339  56.769517  58.299397  60.994507  59.559509  59.809063   \n",
       "35         37.816839  58.827548  60.742461  63.371686  62.685087  62.420615   \n",
       "40         36.958001  61.467895  63.162824  66.068580  65.600754  65.052675   \n",
       "45         36.236114  64.132421  65.755562  70.662958  69.265506  68.084082   \n",
       "\n",
       "Drug        Propriva   Ramicane   Stelasyn  Zoniferol  \n",
       "Timepoint                                              \n",
       "0          45.000000  45.000000  45.000000  45.000000  \n",
       "5          47.248967  43.944859  47.527452  46.851818  \n",
       "10         49.101541  42.531957  49.463844  48.689881  \n",
       "15         51.067318  41.495061  51.529409  50.779059  \n",
       "20         53.346737  40.238325  54.067395  53.170334  \n",
       "25         55.504138  38.974300  56.166123  55.432935  \n",
       "30         58.196374  38.703137  59.826738  57.713531  \n",
       "35         60.350199  37.451996  62.440699  60.089372  \n",
       "40         63.045537  36.574081  65.356386  62.916692  \n",
       "45         66.258529  34.955595  68.438310  65.960888  "
      ]
     },
     "execution_count": 91,
     "metadata": {},
     "output_type": "execute_result"
    }
   ],
   "source": [
    "tv_df = results_df.pivot_table(values='Tumor Volume (mm3)',index=['Timepoint'],columns=['Drug']) \n",
    "tv_df"
   ]
  },
  {
   "cell_type": "markdown",
   "metadata": {},
   "source": [
    "## Metastatic Sites Change Over Time"
   ]
  },
  {
   "cell_type": "code",
   "execution_count": 77,
   "metadata": {
    "collapsed": false
   },
   "outputs": [
    {
     "data": {
      "text/plain": [
       "<matplotlib.text.Text at 0x263c0999898>"
      ]
     },
     "execution_count": 77,
     "metadata": {},
     "output_type": "execute_result"
    },
    {
     "data": {
      "image/png": "[encoded data removed]",
      "text/plain": [
       "<matplotlib.figure.Figure at 0x263c0962f28>"
      ]
     },
     "metadata": {},
     "output_type": "display_data"
    }
   ],
   "source": [
    "# Creating a scatter plot that shows how the number of [metastatic](https://en.wikipedia.org/wiki/Metastasis)\n",
    "#(cancer spreading) sites changes over time for each treatment.\n",
    "ms = sns.lmplot(x='Timepoint', y='Metastatic Sites', data=results_df, hue='Drug')\n",
    "ms.set(xlim=(0,45))\n",
    "plt.xlabel('Time (Days)')\n",
    "plt.title('Metastatic Sites Over Time')"
   ]
  },
  {
   "cell_type": "code",
   "execution_count": 16,
   "metadata": {
    "collapsed": true
   },
   "outputs": [],
   "source": [
    "# Creating a scatter plot that shows the number of mice still alive through the course of treatment (Survival Rate)"
   ]
  },
  {
   "cell_type": "code",
   "execution_count": 52,
   "metadata": {
    "collapsed": true
   },
   "outputs": [],
   "source": [
    "# Creating a bar graph that compares the total % tumor volume change for each drug across the full 45 days."
   ]
  },
  {
   "cell_type": "code",
   "execution_count": null,
   "metadata": {
    "collapsed": false
   },
   "outputs": [],
   "source": []
  },
  {
   "cell_type": "code",
   "execution_count": 92,
   "metadata": {
    "collapsed": false
   },
   "outputs": [
    {
     "data": {
      "text/plain": [
       "Drug       Timepoint\n",
       "Capomulin  0            0.000000\n",
       "           5            0.160000\n",
       "           10           0.320000\n",
       "           15           0.375000\n",
       "           20           0.652174\n",
       "           25           0.818182\n",
       "           30           1.090909\n",
       "           35           1.181818\n",
       "           40           1.380952\n",
       "           45           1.476190\n",
       "Ceftamin   0            0.000000\n",
       "           5            0.380952\n",
       "           10           0.600000\n",
       "           15           0.789474\n",
       "           20           1.111111\n",
       "           25           1.500000\n",
       "           30           1.937500\n",
       "           35           2.071429\n",
       "           40           2.357143\n",
       "           45           2.692308\n",
       "Infubinol  0            0.000000\n",
       "           5            0.280000\n",
       "           10           0.666667\n",
       "           15           0.904762\n",
       "           20           1.050000\n",
       "           25           1.277778\n",
       "           30           1.588235\n",
       "           35           1.666667\n",
       "           40           2.100000\n",
       "           45           2.111111\n",
       "                          ...   \n",
       "Ramicane   0            0.000000\n",
       "           5            0.120000\n",
       "           10           0.250000\n",
       "           15           0.333333\n",
       "           20           0.347826\n",
       "           25           0.652174\n",
       "           30           0.782609\n",
       "           35           0.952381\n",
       "           40           1.100000\n",
       "           45           1.250000\n",
       "Stelasyn   0            0.000000\n",
       "           5            0.240000\n",
       "           10           0.478261\n",
       "           15           0.782609\n",
       "           20           0.952381\n",
       "           25           1.157895\n",
       "           30           1.388889\n",
       "           35           1.562500\n",
       "           40           1.583333\n",
       "           45           1.727273\n",
       "Zoniferol  0            0.000000\n",
       "           5            0.166667\n",
       "           10           0.500000\n",
       "           15           0.809524\n",
       "           20           1.294118\n",
       "           25           1.687500\n",
       "           30           1.933333\n",
       "           35           2.285714\n",
       "           40           2.785714\n",
       "           45           3.071429\n",
       "Name: Metastatic Sites, dtype: float64"
      ]
     },
     "execution_count": 92,
     "metadata": {},
     "output_type": "execute_result"
    }
   ],
   "source": [
    "ms_df = results_df.pivot_table(values='Metastatic Sites',index=['Drug', 'Timepoint']) \n",
    "ms_df"
   ]
  },
  {
   "cell_type": "code",
   "execution_count": 94,
   "metadata": {
    "collapsed": false
   },
   "outputs": [
    {
     "data": {
      "text/html": [
       "<div>\n",
       "<table border=\"1\" class=\"dataframe\">\n",
       "  <thead>\n",
       "    <tr style=\"text-align: right;\">\n",
       "      <th>Drug</th>\n",
       "      <th>Capomulin</th>\n",
       "      <th>Ceftamin</th>\n",
       "      <th>Infubinol</th>\n",
       "      <th>Ketapril</th>\n",
       "      <th>Naftisol</th>\n",
       "      <th>Placebo</th>\n",
       "      <th>Propriva</th>\n",
       "      <th>Ramicane</th>\n",
       "      <th>Stelasyn</th>\n",
       "      <th>Zoniferol</th>\n",
       "    </tr>\n",
       "    <tr>\n",
       "      <th>Timepoint</th>\n",
       "      <th></th>\n",
       "      <th></th>\n",
       "      <th></th>\n",
       "      <th></th>\n",
       "      <th></th>\n",
       "      <th></th>\n",
       "      <th></th>\n",
       "      <th></th>\n",
       "      <th></th>\n",
       "      <th></th>\n",
       "    </tr>\n",
       "  </thead>\n",
       "  <tbody>\n",
       "    <tr>\n",
       "      <th>0</th>\n",
       "      <td>0.000000</td>\n",
       "      <td>0.000000</td>\n",
       "      <td>0.000000</td>\n",
       "      <td>0.000000</td>\n",
       "      <td>0.000000</td>\n",
       "      <td>0.000000</td>\n",
       "      <td>0.000000</td>\n",
       "      <td>0.000000</td>\n",
       "      <td>0.000000</td>\n",
       "      <td>0.000000</td>\n",
       "    </tr>\n",
       "    <tr>\n",
       "      <th>5</th>\n",
       "      <td>0.160000</td>\n",
       "      <td>0.380952</td>\n",
       "      <td>0.280000</td>\n",
       "      <td>0.304348</td>\n",
       "      <td>0.260870</td>\n",
       "      <td>0.375000</td>\n",
       "      <td>0.320000</td>\n",
       "      <td>0.120000</td>\n",
       "      <td>0.240000</td>\n",
       "      <td>0.166667</td>\n",
       "    </tr>\n",
       "    <tr>\n",
       "      <th>10</th>\n",
       "      <td>0.320000</td>\n",
       "      <td>0.600000</td>\n",
       "      <td>0.666667</td>\n",
       "      <td>0.590909</td>\n",
       "      <td>0.523810</td>\n",
       "      <td>0.833333</td>\n",
       "      <td>0.565217</td>\n",
       "      <td>0.250000</td>\n",
       "      <td>0.478261</td>\n",
       "      <td>0.500000</td>\n",
       "    </tr>\n",
       "    <tr>\n",
       "      <th>15</th>\n",
       "      <td>0.375000</td>\n",
       "      <td>0.789474</td>\n",
       "      <td>0.904762</td>\n",
       "      <td>0.842105</td>\n",
       "      <td>0.857143</td>\n",
       "      <td>1.250000</td>\n",
       "      <td>0.764706</td>\n",
       "      <td>0.333333</td>\n",
       "      <td>0.782609</td>\n",
       "      <td>0.809524</td>\n",
       "    </tr>\n",
       "    <tr>\n",
       "      <th>20</th>\n",
       "      <td>0.652174</td>\n",
       "      <td>1.111111</td>\n",
       "      <td>1.050000</td>\n",
       "      <td>1.210526</td>\n",
       "      <td>1.150000</td>\n",
       "      <td>1.526316</td>\n",
       "      <td>1.000000</td>\n",
       "      <td>0.347826</td>\n",
       "      <td>0.952381</td>\n",
       "      <td>1.294118</td>\n",
       "    </tr>\n",
       "    <tr>\n",
       "      <th>25</th>\n",
       "      <td>0.818182</td>\n",
       "      <td>1.500000</td>\n",
       "      <td>1.277778</td>\n",
       "      <td>1.631579</td>\n",
       "      <td>1.500000</td>\n",
       "      <td>1.941176</td>\n",
       "      <td>1.357143</td>\n",
       "      <td>0.652174</td>\n",
       "      <td>1.157895</td>\n",
       "      <td>1.687500</td>\n",
       "    </tr>\n",
       "    <tr>\n",
       "      <th>30</th>\n",
       "      <td>1.090909</td>\n",
       "      <td>1.937500</td>\n",
       "      <td>1.588235</td>\n",
       "      <td>2.055556</td>\n",
       "      <td>2.066667</td>\n",
       "      <td>2.266667</td>\n",
       "      <td>1.615385</td>\n",
       "      <td>0.782609</td>\n",
       "      <td>1.388889</td>\n",
       "      <td>1.933333</td>\n",
       "    </tr>\n",
       "    <tr>\n",
       "      <th>35</th>\n",
       "      <td>1.181818</td>\n",
       "      <td>2.071429</td>\n",
       "      <td>1.666667</td>\n",
       "      <td>2.294118</td>\n",
       "      <td>2.266667</td>\n",
       "      <td>2.642857</td>\n",
       "      <td>2.300000</td>\n",
       "      <td>0.952381</td>\n",
       "      <td>1.562500</td>\n",
       "      <td>2.285714</td>\n",
       "    </tr>\n",
       "    <tr>\n",
       "      <th>40</th>\n",
       "      <td>1.380952</td>\n",
       "      <td>2.357143</td>\n",
       "      <td>2.100000</td>\n",
       "      <td>2.733333</td>\n",
       "      <td>2.466667</td>\n",
       "      <td>3.166667</td>\n",
       "      <td>2.777778</td>\n",
       "      <td>1.100000</td>\n",
       "      <td>1.583333</td>\n",
       "      <td>2.785714</td>\n",
       "    </tr>\n",
       "    <tr>\n",
       "      <th>45</th>\n",
       "      <td>1.476190</td>\n",
       "      <td>2.692308</td>\n",
       "      <td>2.111111</td>\n",
       "      <td>3.363636</td>\n",
       "      <td>2.538462</td>\n",
       "      <td>3.272727</td>\n",
       "      <td>2.571429</td>\n",
       "      <td>1.250000</td>\n",
       "      <td>1.727273</td>\n",
       "      <td>3.071429</td>\n",
       "    </tr>\n",
       "  </tbody>\n",
       "</table>\n",
       "</div>"
      ],
      "text/plain": [
       "Drug       Capomulin  Ceftamin  Infubinol  Ketapril  Naftisol   Placebo  \\\n",
       "Timepoint                                                                 \n",
       "0           0.000000  0.000000   0.000000  0.000000  0.000000  0.000000   \n",
       "5           0.160000  0.380952   0.280000  0.304348  0.260870  0.375000   \n",
       "10          0.320000  0.600000   0.666667  0.590909  0.523810  0.833333   \n",
       "15          0.375000  0.789474   0.904762  0.842105  0.857143  1.250000   \n",
       "20          0.652174  1.111111   1.050000  1.210526  1.150000  1.526316   \n",
       "25          0.818182  1.500000   1.277778  1.631579  1.500000  1.941176   \n",
       "30          1.090909  1.937500   1.588235  2.055556  2.066667  2.266667   \n",
       "35          1.181818  2.071429   1.666667  2.294118  2.266667  2.642857   \n",
       "40          1.380952  2.357143   2.100000  2.733333  2.466667  3.166667   \n",
       "45          1.476190  2.692308   2.111111  3.363636  2.538462  3.272727   \n",
       "\n",
       "Drug       Propriva  Ramicane  Stelasyn  Zoniferol  \n",
       "Timepoint                                           \n",
       "0          0.000000  0.000000  0.000000   0.000000  \n",
       "5          0.320000  0.120000  0.240000   0.166667  \n",
       "10         0.565217  0.250000  0.478261   0.500000  \n",
       "15         0.764706  0.333333  0.782609   0.809524  \n",
       "20         1.000000  0.347826  0.952381   1.294118  \n",
       "25         1.357143  0.652174  1.157895   1.687500  \n",
       "30         1.615385  0.782609  1.388889   1.933333  \n",
       "35         2.300000  0.952381  1.562500   2.285714  \n",
       "40         2.777778  1.100000  1.583333   2.785714  \n",
       "45         2.571429  1.250000  1.727273   3.071429  "
      ]
     },
     "execution_count": 94,
     "metadata": {},
     "output_type": "execute_result"
    }
   ],
   "source": [
    "ms_df = results_df.pivot_table(values='Metastatic Sites',index=['Timepoint'],columns=['Drug']) \n",
    "ms_df"
   ]
  },
  {
   "cell_type": "markdown",
   "metadata": {},
   "source": [
    "## Survival Rates by Drug"
   ]
  },
  {
   "cell_type": "code",
   "execution_count": 98,
   "metadata": {
    "collapsed": false
   },
   "outputs": [
    {
     "name": "stdout",
     "output_type": "stream",
     "text": [
      "Drug       Timepoint\n",
      "Capomulin  0            25\n",
      "           5            25\n",
      "           10           25\n",
      "           15           24\n",
      "           20           23\n",
      "           25           22\n",
      "           30           22\n",
      "           35           22\n",
      "           40           21\n",
      "           45           21\n",
      "Ceftamin   0            25\n",
      "           5            21\n",
      "           10           20\n",
      "           15           19\n",
      "           20           18\n",
      "           25           18\n",
      "           30           16\n",
      "           35           14\n",
      "           40           14\n",
      "           45           13\n",
      "Infubinol  0            25\n",
      "           5            25\n",
      "           10           21\n",
      "           15           21\n",
      "           20           20\n",
      "           25           18\n",
      "           30           17\n",
      "           35           12\n",
      "           40           10\n",
      "           45            9\n",
      "                        ..\n",
      "Ramicane   0            25\n",
      "           5            25\n",
      "           10           24\n",
      "           15           24\n",
      "           20           23\n",
      "           25           23\n",
      "           30           23\n",
      "           35           21\n",
      "           40           20\n",
      "           45           20\n",
      "Stelasyn   0            26\n",
      "           5            25\n",
      "           10           23\n",
      "           15           23\n",
      "           20           21\n",
      "           25           19\n",
      "           30           18\n",
      "           35           16\n",
      "           40           12\n",
      "           45           11\n",
      "Zoniferol  0            25\n",
      "           5            24\n",
      "           10           22\n",
      "           15           21\n",
      "           20           17\n",
      "           25           16\n",
      "           30           15\n",
      "           35           14\n",
      "           40           14\n",
      "           45           14\n",
      "Name: Mouse ID, dtype: int64\n"
     ]
    }
   ],
   "source": [
    "\n",
    "surv_rates = results_df.groupby(['Drug', 'Timepoint'])['Mouse ID'].count()\n",
    "print(surv_rates)"
   ]
  },
  {
   "cell_type": "code",
   "execution_count": null,
   "metadata": {
    "collapsed": false
   },
   "outputs": [],
   "source": []
  },
  {
   "cell_type": "code",
   "execution_count": null,
   "metadata": {
    "collapsed": true
   },
   "outputs": [],
   "source": []
  }
 ],
 "metadata": {
  "kernelspec": {
   "display_name": "Python 3",
   "language": "python",
   "name": "python3"
  },
  "language_info": {
   "codemirror_mode": {
    "name": "ipython",
    "version": 3
   },
   "file_extension": ".py",
   "mimetype": "text/x-python",
   "name": "python",
   "nbconvert_exporter": "python",
   "pygments_lexer": "ipython3",
   "version": "3.6.0"
  }
 },
 "nbformat": 4,
 "nbformat_minor": 2
}
